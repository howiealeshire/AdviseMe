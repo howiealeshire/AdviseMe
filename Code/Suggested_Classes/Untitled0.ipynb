{
 "cells": [
  {
   "cell_type": "code",
   "execution_count": 1,
   "metadata": {},
   "outputs": [],
   "source": [
    "import pandas as pd\n",
    "import numpy as np\n",
    "import math"
   ]
  },
  {
   "cell_type": "code",
   "execution_count": 10,
   "metadata": {},
   "outputs": [],
   "source": [
    "compSci = pd.read_csv('../../Data/Course_Data/compsciNew.csv')\n",
    "compSci['Subject'] = \"computer science\"\n",
    "bio = pd.read_csv('../../Data/Course_Data/bioNew.csv')\n",
    "bio['Subject'] = \"biology\"\n",
    "chem = pd.read_csv('../../Data/Course_Data/chemNew.csv')\n",
    "chem['Subject'] = \"chemistry\"\n",
    "classicalCiv = pd.read_csv('../../Data/Course_Data/classical_civNew.csv')\n",
    "classicalCiv['Subject'] = \"classical civilizations\"\n",
    "english = pd.read_csv('../../Data/Course_Data/englishNew.csv')\n",
    "english['Subject'] = \"english\" \n",
    "french = pd.read_csv('../../Data/Course_Data/frenchNew.csv')\n",
    "french['Subject'] = \"french\"\n",
    "history = pd.read_csv('../../Data/Course_Data/historyNew.csv')\n",
    "history['Subject'] = \"history\"\n",
    "math = pd.read_csv('../../Data/Course_Data/mathNew.csv')\n",
    "math['Subject'] = \"math\"\n",
    "philosophy = pd.read_csv('../../Data/Course_Data/philosophyNew.csv')\n",
    "philosophy['Subject'] = \"philosophy\"\n",
    "\n",
    "frames = [compSci, bio, chem, classicalCiv, english, french, history, math, philosophy]\n",
    "fullDF = pd.concat(frames)\n",
    "fullDF.dropna(subset=['Course'], inplace=True) \n",
    "fullDF.reset_index(inplace=True, drop=True)"
   ]
  },
  {
   "cell_type": "code",
   "execution_count": 11,
   "metadata": {},
   "outputs": [],
   "source": [
    "fullDF.to_csv('tempFull', sep='\\t')"
   ]
  },
  {
   "cell_type": "code",
   "execution_count": 60,
   "metadata": {},
   "outputs": [
    {
     "name": "stdout",
     "output_type": "stream",
     "text": [
      "CRN                                   14314\n",
      "**Notes                                 NaN\n",
      "Course                           PHI 222-03\n",
      "Title            Ethics in the Computer Age\n",
      "SH                                        3\n",
      "Course Type                             LEC\n",
      "Instructor                   Joseph W. Cole\n",
      "Meeting Dates    08-JAN-2018 to 25-APR-2018\n",
      "Days                                    T R\n",
      "Time                              1100-1215\n",
      "Location                           SOEB 206\n",
      "Categories                             .GPR\n",
      "Seats                                     0\n",
      "Limit                                    40\n",
      "Enroll                                   40\n",
      "*Campus                                   M\n",
      "Subject                          philosophy\n",
      "Prerequisites                           NaN\n",
      "Score                                     2\n",
      "Name: 1144, dtype: object\n"
     ]
    }
   ],
   "source": [
    "#fullDF['Prerequisites'] = np.nan\n",
    "#fullDF['Prerequisites'] = fullDF['Prerequisites'].astype(object)\n",
    "#fullDF['Score'] = 0\n",
    "#fullDF = pd.read_csv('tempFull.csv')\n",
    "x = 1144\n",
    "#fullDF.at[x, 'Score'] = 2\n",
    "\n",
    "#del fullDF['Unnamed: 0.1.1']\n",
    "print (fullDF.ix[x])\n",
    "fullDF.to_csv('tempFull.csv')"
   ]
  },
  {
   "cell_type": "code",
   "execution_count": 5,
   "metadata": {},
   "outputs": [
    {
     "data": {
      "text/plain": [
       "Unnamed: 0        int64\n",
       "CRN               int64\n",
       "**Notes          object\n",
       "Course           object\n",
       "Title            object\n",
       "SH                int64\n",
       "Course Type      object\n",
       "Instructor       object\n",
       "Meeting Dates    object\n",
       "Days             object\n",
       "Time             object\n",
       "Location         object\n",
       "Categories       object\n",
       "Seats             int64\n",
       "Limit             int64\n",
       "Enroll            int64\n",
       "*Campus          object\n",
       "Subject          object\n",
       "Prerequisites    object\n",
       "Score             int64\n",
       "dtype: object"
      ]
     },
     "execution_count": 5,
     "metadata": {},
     "output_type": "execute_result"
    }
   ],
   "source": [
    "fullDF = pd.read_csv('tempFull.csv')\n",
    "fullDF.dtypes\n",
    "#fullDF[['SH', 'Seats', 'Limit', 'Enroll']] = fullDF[['SH', 'Seats', 'Limit', 'Enroll']].astype(int)\n",
    "#print (fullDF.ix[0].Categories)\n",
    "#fullDF['Categories'].fillna(\"none\", inplace=True)\n",
    "\n",
    "#for i, row in fullDF.iterrows():\n",
    " #   if \".GSB\" in row.Categories:\n",
    "  #      fullDF.set_value(i, 'Score', row.Score+1)\n",
    "   #     print (fullDF.ix[i])\n",
    "#fullDF.to_csv('tempFull1.csv')"
   ]
  },
  {
   "cell_type": "code",
   "execution_count": 10,
   "metadata": {},
   "outputs": [],
   "source": [
    "majorData = pd.read_csv('MajorTemp1.csv')"
   ]
  },
  {
   "cell_type": "code",
   "execution_count": 12,
   "metadata": {},
   "outputs": [
    {
     "name": "stdout",
     "output_type": "stream",
     "text": [
      "   Unnamed: 0                                               Core  Senior  GLT  \\\n",
      "0           0  ['MAT150', 'MAT151', 'CSC130', 'CSC250', 'CSC2...  CSC490    2   \n",
      "\n",
      "   GPR  GHP  GRD  GL/GN  SI  WI                               GFL  CSC  \\\n",
      "0    1    1    2      4   1   2  [FRE101, FRE102, FRE203, FRE204]    4   \n",
      "\n",
      "                        MAT  \n",
      "0  [MAT293, MAT310, MAT390]  \n"
     ]
    }
   ],
   "source": [
    "majorData['Core'] = majorData['Core'].astype(object)\n",
    "majorData['GFL'] = majorData['GFL'].astype(object)\n",
    "majorData['MAT'] = majorData['MAT'].astype(object)\n",
    "majorData.at[0,'Core'] = ['MAT150', 'MAT151', 'CSC130', 'CSC250', 'CSC230',\n",
    "                         'CSC350', 'CSC261', 'CSC330', 'CSC553', 'CSC340',\n",
    "                         'CSC339', 'CSC562', 'CSC471', 'MAT191', 'PHI222',\n",
    "                         'MAT292', 'CHE111', 'CHE112', 'CHE114', 'CHE115',\n",
    "                         'BIO111']\n",
    "majorData.at[0,'GFL'] = ['FRE101', 'FRE102', 'FRE203', 'FRE204']\n",
    "majorData.at[0,'MAT'] = ['MAT293', 'MAT310', 'MAT390']\n",
    "\n",
    "print(majorData)"
   ]
  },
  {
   "cell_type": "code",
   "execution_count": 13,
   "metadata": {},
   "outputs": [],
   "source": [
    "majorData.to_csv('../../Data/Major_Data/MajorData.csv')"
   ]
  },
  {
   "cell_type": "code",
   "execution_count": 2,
   "metadata": {},
   "outputs": [],
   "source": [
    "fullDF = pd.read_csv('tempSmall.csv')"
   ]
  },
  {
   "cell_type": "code",
   "execution_count": 7,
   "metadata": {
    "scrolled": true
   },
   "outputs": [
    {
     "name": "stdout",
     "output_type": "stream",
     "text": [
      "0       CSC 101-01\n",
      "1       CSC 130-01\n",
      "2       CSC 130-02\n",
      "3       CSC 130-03\n",
      "4       CSC 230-01\n",
      "5       CSC 230-02\n",
      "6       CSC 230-03\n",
      "7       CSC 250-01\n",
      "8       CSC 250-02\n",
      "9       CSC 250-03\n",
      "10      CSC 261-01\n",
      "11      CSC 330-01\n",
      "12      CSC 339-01\n",
      "13      CSC 339-02\n",
      "14      CSC 340-01\n",
      "15      CSC 340-02\n",
      "16      CSC 350-01\n",
      "17      CSC 350-02\n",
      "18      CSC 471-01\n",
      "19      CSC 490-01\n",
      "20      CSC 490-02\n",
      "21      CSC 493-01\n",
      "22      CSC 495-01\n",
      "23      CSC 510-01\n",
      "24      CSC 523-01\n",
      "25      CSC 526-01\n",
      "26      CSC 529-01\n",
      "27      CSC 540-01\n",
      "28      CSC 553-01\n",
      "29      CSC 562-01\n",
      "          ...     \n",
      "421     PHI 220-02\n",
      "422     PHI 222-02\n",
      "423     PHI 222-03\n",
      "424     PHI 252-01\n",
      "425     PHI 252-02\n",
      "426    PHI 252-02D\n",
      "427     PHI 301-01\n",
      "428    PHI 301-01D\n",
      "429     PHI 321-01\n",
      "430     PHI 331-01\n",
      "431    PHI 331-01D\n",
      "432     PHI 359-01\n",
      "433    PHI 359-01D\n",
      "434    PHI 361-01D\n",
      "435    PHI 361-02D\n",
      "436     PHI 361-03\n",
      "437     PHI 361-04\n",
      "438     PHI 361-05\n",
      "439    PHI 361-05D\n",
      "440     PHI 361-06\n",
      "441     PHI 361-07\n",
      "442    PHI 361-07D\n",
      "443     PHI 361-08\n",
      "444    PHI 361-08D\n",
      "445     PHI 361-09\n",
      "446    PHI 361-09D\n",
      "447    PHI 361-81D\n",
      "448    PHI 361-82D\n",
      "449     PHI 494-01\n",
      "450    PHI 494-01D\n",
      "Name: Course, Length: 451, dtype: object\n"
     ]
    }
   ],
   "source": [
    "#fullDF = fullDF[fullDF.Score != 0]\n",
    "fullDF['Course'] = fullDF['Course'].replace()\n",
    "print (fullDF['Course'].replace())\n",
    "#fullDF.to_csv('tempSmall.csv')"
   ]
  },
  {
   "cell_type": "code",
   "execution_count": null,
   "metadata": {},
   "outputs": [],
   "source": []
  }
 ],
 "metadata": {
  "kernelspec": {
   "display_name": "Python 3",
   "language": "python",
   "name": "python3"
  },
  "language_info": {
   "codemirror_mode": {
    "name": "ipython",
    "version": 3
   },
   "file_extension": ".py",
   "mimetype": "text/x-python",
   "name": "python",
   "nbconvert_exporter": "python",
   "pygments_lexer": "ipython3",
   "version": "3.6.5"
  }
 },
 "nbformat": 4,
 "nbformat_minor": 1
}
