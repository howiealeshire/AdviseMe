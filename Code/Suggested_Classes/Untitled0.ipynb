{
 "cells": [
  {
   "cell_type": "code",
   "execution_count": 1,
   "metadata": {},
   "outputs": [],
   "source": [
    "import pandas as pd\n",
    "import numpy as np\n",
    "import math"
   ]
  },
  {
   "cell_type": "code",
   "execution_count": 10,
   "metadata": {},
   "outputs": [],
   "source": [
    "compSci = pd.read_csv('../../Data/Course_Data/compsciNew.csv')\n",
    "compSci['Subject'] = \"computer science\"\n",
    "bio = pd.read_csv('../../Data/Course_Data/bioNew.csv')\n",
    "bio['Subject'] = \"biology\"\n",
    "chem = pd.read_csv('../../Data/Course_Data/chemNew.csv')\n",
    "chem['Subject'] = \"chemistry\"\n",
    "classicalCiv = pd.read_csv('../../Data/Course_Data/classical_civNew.csv')\n",
    "classicalCiv['Subject'] = \"classical civilizations\"\n",
    "english = pd.read_csv('../../Data/Course_Data/englishNew.csv')\n",
    "english['Subject'] = \"english\" \n",
    "french = pd.read_csv('../../Data/Course_Data/frenchNew.csv')\n",
    "french['Subject'] = \"french\"\n",
    "history = pd.read_csv('../../Data/Course_Data/historyNew.csv')\n",
    "history['Subject'] = \"history\"\n",
    "math = pd.read_csv('../../Data/Course_Data/mathNew.csv')\n",
    "math['Subject'] = \"math\"\n",
    "philosophy = pd.read_csv('../../Data/Course_Data/philosophyNew.csv')\n",
    "philosophy['Subject'] = \"philosophy\"\n",
    "\n",
    "frames = [compSci, bio, chem, classicalCiv, english, french, history, math, philosophy]\n",
    "fullDF = pd.concat(frames)\n",
    "fullDF.dropna(subset=['Course'], inplace=True) \n",
    "fullDF.reset_index(inplace=True, drop=True)"
   ]
  },
  {
   "cell_type": "code",
   "execution_count": 11,
   "metadata": {},
   "outputs": [],
   "source": [
    "fullDF.to_csv('tempFull', sep='\\t')"
   ]
  },
  {
   "cell_type": "code",
   "execution_count": 60,
   "metadata": {},
   "outputs": [
    {
     "name": "stdout",
     "output_type": "stream",
     "text": [
      "CRN                                   14314\n",
      "**Notes                                 NaN\n",
      "Course                           PHI 222-03\n",
      "Title            Ethics in the Computer Age\n",
      "SH                                        3\n",
      "Course Type                             LEC\n",
      "Instructor                   Joseph W. Cole\n",
      "Meeting Dates    08-JAN-2018 to 25-APR-2018\n",
      "Days                                    T R\n",
      "Time                              1100-1215\n",
      "Location                           SOEB 206\n",
      "Categories                             .GPR\n",
      "Seats                                     0\n",
      "Limit                                    40\n",
      "Enroll                                   40\n",
      "*Campus                                   M\n",
      "Subject                          philosophy\n",
      "Prerequisites                           NaN\n",
      "Score                                     2\n",
      "Name: 1144, dtype: object\n"
     ]
    }
   ],
   "source": [
    "#fullDF['Prerequisites'] = np.nan\n",
    "#fullDF['Prerequisites'] = fullDF['Prerequisites'].astype(object)\n",
    "#fullDF['Score'] = 0\n",
    "#fullDF = pd.read_csv('tempFull.csv')\n",
    "x = 1144\n",
    "#fullDF.at[x, 'Score'] = 2\n",
    "\n",
    "#del fullDF['Unnamed: 0.1.1']\n",
    "print (fullDF.ix[x])\n",
    "fullDF.to_csv('tempFull.csv')"
   ]
  },
  {
   "cell_type": "code",
   "execution_count": null,
   "metadata": {},
   "outputs": [],
   "source": []
  },
  {
   "cell_type": "code",
   "execution_count": null,
   "metadata": {},
   "outputs": [],
   "source": []
  }
 ],
 "metadata": {
  "kernelspec": {
   "display_name": "Python 3",
   "language": "python",
   "name": "python3"
  },
  "language_info": {
   "codemirror_mode": {
    "name": "ipython",
    "version": 3
   },
   "file_extension": ".py",
   "mimetype": "text/x-python",
   "name": "python",
   "nbconvert_exporter": "python",
   "pygments_lexer": "ipython3",
   "version": "3.6.5"
  }
 },
 "nbformat": 4,
 "nbformat_minor": 1
}
