{
 "cells": [
  {
   "cell_type": "code",
   "execution_count": 4,
   "metadata": {},
   "outputs": [],
   "source": [
    "import pandas as pd\n",
    "import numpy as np\n",
    "import datetime"
   ]
  },
  {
   "cell_type": "code",
   "execution_count": 83,
   "metadata": {},
   "outputs": [
    {
     "name": "stdout",
     "output_type": "stream",
     "text": [
      "Heapsort: 0:00:00.001503\n"
     ]
    }
   ],
   "source": [
    "fullDF = pd.read_csv('tempFull.csv')\n",
    "\n",
    "start = datetime.datetime.now()\n",
    "fullDF.sort_values('Score', ascending=False, kind='heapsort')\n",
    "finish = datetime.datetime.now()\n",
    "\n",
    "print (\"Heapsort:\", finish-start)"
   ]
  },
  {
   "cell_type": "markdown",
   "metadata": {},
   "source": [
    "Each algorithm was applied 10 times. The mean values are as follows:\n",
    "\n",
    "Mergesort: 0.0011598 seconds\n",
    "\n",
    "Heapsort: 0.0014559 seconds\n",
    "\n",
    "In addition to being slightly faster, mergesort results in more computer and math classes at the top."
   ]
  },
  {
   "cell_type": "code",
   "execution_count": null,
   "metadata": {},
   "outputs": [],
   "source": []
  }
 ],
 "metadata": {
  "kernelspec": {
   "display_name": "Python 3",
   "language": "python",
   "name": "python3"
  },
  "language_info": {
   "codemirror_mode": {
    "name": "ipython",
    "version": 3
   },
   "file_extension": ".py",
   "mimetype": "text/x-python",
   "name": "python",
   "nbconvert_exporter": "python",
   "pygments_lexer": "ipython3",
   "version": "3.6.5"
  }
 },
 "nbformat": 4,
 "nbformat_minor": 2
}
